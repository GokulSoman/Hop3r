{
 "cells": [
  {
   "cell_type": "code",
   "execution_count": 1,
   "metadata": {},
   "outputs": [],
   "source": [
    "# libraries\n",
    "import trep\n",
    "from trep import tx,ty,tz,rx,ry,rz\n",
    "import trep.potentials\n",
    "import time\n",
    "import trep.visual as visual\n",
    "import math\n",
    "import numpy as np"
   ]
  },
  {
   "cell_type": "code",
   "execution_count": 1,
   "metadata": {},
   "outputs": [],
   "source": [
    "# import states from .csv"
   ]
  },
  {
   "cell_type": "code",
   "execution_count": 7,
   "metadata": {},
   "outputs": [
    {
     "data": {
      "text/plain": [
       "<trep.constraints.point.PointToPoint2D instance at 0x7fcfd0d51908>"
      ]
     },
     "execution_count": 7,
     "metadata": {},
     "output_type": "execute_result"
    }
   ],
   "source": [
    "# set up robot model\n",
    "hopper = trep.System()\n",
    "hopper.import_frames([\n",
    "    # center of mass\n",
    "    tz('z_com',mass=0.001,name='CoM_robot'), [\n",
    "        # middle links\n",
    "        tz(-0.1), [\n",
    "            rx('motor1',name='motor1'), [\n",
    "                tz(-0.097,name='center_link1'), [\n",
    "                    rx('center_theta1'), [\n",
    "                        tz(-0.0983,name='center_link2'), [\n",
    "                            rx('center_theta2'), [\n",
    "                                tz(-0.0692,mass=0.001,name='center_attach'), [\n",
    "                                    tz(-0.1018,name='foot')\n",
    "                                ]\n",
    "                            ]\n",
    "                        ]\n",
    "                    ]\n",
    "                ]\n",
    "            ]\n",
    "        ],\n",
    "        # right links\n",
    "        ty(0.0573), [\n",
    "            tz(-0.0918), [\n",
    "                rx('motor2',name='motor2'), [\n",
    "                    tz(-0.053,name='right_link'), [\n",
    "                        rx('right_theta'), [\n",
    "                            tz(-0.139,name='right_attach')\n",
    "                        ]\n",
    "                    ]\n",
    "                ]\n",
    "            ]\n",
    "        ],\n",
    "        # left links\n",
    "        ty(-0.0573), [\n",
    "            tz(-0.0918), [\n",
    "                rx('motor3',name='motor3'), [\n",
    "                    tz(-0.053,name='left_link'), [\n",
    "                        rx('left_theta'), [\n",
    "                            tz(-0.139,name='left_attach')\n",
    "                        ]\n",
    "                    ]\n",
    "                ]\n",
    "            ]\n",
    "        ]\n",
    "    ]\n",
    "])\n",
    "\n",
    "# NOTE: q = [z_com, motor1, center_theta1, center_theta2, motor2, right_theta, motor3, left_theta]\n",
    "\n",
    "# Establish gravity\n",
    "trep.potentials.Gravity(hopper)\n",
    "# trep.forces.Damping(system, 0.1)\n",
    "\n",
    "# Input Torque\n",
    "trep.forces.ConfigForce(hopper, 'motor1', 'motor1_torque')\n",
    "trep.forces.ConfigForce(hopper, 'motor2', 'motor2_torque')\n",
    "trep.forces.ConfigForce(hopper, 'motor3', 'motor3_torque')\n",
    "\n",
    "# Add constraints\n",
    "trep.constraints.PointToPoint2D(hopper,'yz','right_attach','center_attach')\n",
    "trep.constraints.PointToPoint2D(hopper,'yz','left_attach','center_attach')\n",
    "trep.constraints.PointToPoint2D(hopper,'yz','World','foot')"
   ]
  },
  {
   "cell_type": "code",
   "execution_count": 3,
   "metadata": {},
   "outputs": [],
   "source": [
    "# simulate forward with trajectory"
   ]
  },
  {
   "cell_type": "code",
   "execution_count": 1,
   "metadata": {},
   "outputs": [],
   "source": [
    "# OR simulate forward with force input"
   ]
  },
  {
   "cell_type": "code",
   "execution_count": 8,
   "metadata": {},
   "outputs": [
    {
     "name": "stdout",
     "output_type": "stream",
     "text": [
      "[ 0.37754284 -0.8571154   1.96966489 -1.19988333  0.26726144 -0.72479644\n",
      "  0.22997825  0.16173713]\n"
     ]
    },
    {
     "data": {
      "text/plain": [
       "0"
      ]
     },
     "execution_count": 8,
     "metadata": {},
     "output_type": "execute_result"
    }
   ],
   "source": [
    "# visualize results\n",
    "\n",
    "# initial configuration, # q = [z_com, motor1, center_theta1, center_theta2, motor2, right_theta, motor3, left_theta]\n",
    "qinit = [0.1, 0.1, 0.5, -0.5, 0.6, -0.2, -0.6, 0.2]\n",
    "\n",
    "hopper.q = qinit\n",
    "hopper.satisfy_constraints(verbose=True, tolerance=1e-1)\n",
    "qnew = hopper.q\n",
    "\n",
    "print qnew\n",
    "\n",
    "q = np.repeat(qnew, 101, axis=0).reshape((8,101)).T\n",
    "t = np.linspace(0,5,101)\n",
    "\n",
    "\n",
    "\n",
    "\n",
    "# Display\n",
    "# print \"Simulation: dt=%f, tf=%f, runtime=%f s\" % (dt, tf, finish-start)\n",
    "visual.visualize_3d([ visual.VisualItem3D(hopper, t, q) ],camera_pos = [(1,0,0.2)])\n",
    "\n",
    "\n",
    "\n"
   ]
  },
  {
   "cell_type": "code",
   "execution_count": null,
   "metadata": {},
   "outputs": [],
   "source": []
  }
 ],
 "metadata": {
  "kernelspec": {
   "display_name": "Python 2",
   "language": "python",
   "name": "python2"
  },
  "language_info": {
   "codemirror_mode": {
    "name": "ipython",
    "version": 2
   },
   "file_extension": ".py",
   "mimetype": "text/x-python",
   "name": "python",
   "nbconvert_exporter": "python",
   "pygments_lexer": "ipython2",
   "version": "2.7.12"
  }
 },
 "nbformat": 4,
 "nbformat_minor": 2
}
