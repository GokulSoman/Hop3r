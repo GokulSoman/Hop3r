{
 "cells": [
  {
   "cell_type": "code",
   "execution_count": 8,
   "metadata": {},
   "outputs": [
    {
     "name": "stdout",
     "output_type": "stream",
     "text": [
      "Simulation: dt=0.010000, tf=10.000000, runtime=0.025931 s\n"
     ]
    },
    {
     "data": {
      "text/plain": [
       "0"
      ]
     },
     "execution_count": 8,
     "metadata": {},
     "output_type": "execute_result"
    }
   ],
   "source": [
    "import trep\n",
    "from trep import tx,ty,tz,rx,ry,rz\n",
    "import time\n",
    "import trep.visual as visual\n",
    "\n",
    "dt = 0.01\n",
    "tf = 10.0\n",
    "\n",
    "def simulate_system(system):\n",
    "    # Now we'll extract the current configuration into a tuple to use as\n",
    "    # initial conditions for a variational integrator.\n",
    "    q0 = system.q\n",
    "\n",
    "    # Create and initialize the variational integrator\n",
    "    mvi = trep.MidpointVI(system)\n",
    "    mvi.initialize_from_configs(0.0, q0, dt, q0)\n",
    "\n",
    "    # This is our simulation loop.  We save the results in two lists.\n",
    "    q = [mvi.q2]\n",
    "    t = [mvi.t2]\n",
    "    while mvi.t1 < tf:\n",
    "        mvi.step(mvi.t2+dt)\n",
    "        q.append(mvi.q2)\n",
    "        t.append(mvi.t2)\n",
    "\n",
    "    return (t,q)\n",
    "\n",
    "system = trep.System()\n",
    "system.import_frames([\n",
    "    rx('theta1'), [\n",
    "        tz(2, mass=1, name='pend1')\n",
    "        ],\n",
    "    ty(1), [\n",
    "        rx('theta2'), [\n",
    "            tz(2, mass=1, name='pend2')\n",
    "            ]]\n",
    "    ])\n",
    "\n",
    "trep.potentials.LinearSpring(system, 'pend1', 'pend2', k=10, x0=1)\n",
    "trep.forces.LinearDamper(system, 'pend1', 'pend2', c=0.2)\n",
    "trep.potentials.Gravity(system, name=\"Gravity\")\n",
    "\n",
    "system.q = [4,-4]\n",
    "\n",
    "# Simulate\n",
    "start = time.clock()\n",
    "(t, q) = simulate_system(system)\n",
    "finish = time.clock()\n",
    "\n",
    "# Display\n",
    "print \"Simulation: dt=%f, tf=%f, runtime=%f s\" % (dt, tf, finish-start)\n",
    "visual.visualize_3d([ visual.VisualItem3D(system, t, q) ])\n"
   ]
  },
  {
   "cell_type": "code",
   "execution_count": 20,
   "metadata": {},
   "outputs": [
    {
     "name": "stdout",
     "output_type": "stream",
     "text": [
      "Simulation: dt=0.010000, tf=2.000000, runtime=0.008537 s\n"
     ]
    },
    {
     "data": {
      "text/plain": [
       "0"
      ]
     },
     "execution_count": 20,
     "metadata": {},
     "output_type": "execute_result"
    }
   ],
   "source": [
    "import trep\n",
    "from trep import tx,ty,tz,rx,ry,rz\n",
    "import time\n",
    "import trep.visual as visual\n",
    "import numpy as np\n",
    "\n",
    "dt = 0.01\n",
    "tf = 2.0\n",
    "\n",
    "def simulate_system(system):\n",
    "    # Now we'll extract the current configuration into a tuple to use as\n",
    "    # initial conditions for a variational integrator.\n",
    "    q0 = [0,1,0,0,0]\n",
    "    q1 = [0,1.0,0.1,0,0]\n",
    "\n",
    "    # Create and initialize the variational integrator\n",
    "    mvi = trep.MidpointVI(system)\n",
    "    mvi.initialize_from_configs(0.0, q0, dt, q1)\n",
    "\n",
    "    # This is our simulation loop.  We save the results in two lists.\n",
    "    q = [mvi.q2]\n",
    "    t = [mvi.t2]\n",
    "    while mvi.t1 < tf:\n",
    "        mvi.step(mvi.t2+dt)\n",
    "        q.append(mvi.q2)\n",
    "        t.append(mvi.t2)\n",
    "\n",
    "    return (t,q)\n",
    "\n",
    "system = trep.System()\n",
    "system.import_frames([\n",
    "    rx('theta0'), [\n",
    "        tz('z'), [\n",
    "            ty('y', mass=2, name='ball'),[\n",
    "                rx('theta1'), [\n",
    "                    tz(2, mass=1, name='pend1')\n",
    "                ],\n",
    "                ty(1), [\n",
    "                    rx('theta2'), [\n",
    "                tz(2, mass=1, name='pend2')\n",
    "                ]]\n",
    "            ]\n",
    "        ]\n",
    "    ]\n",
    "])\n",
    "\n",
    "trep.potentials.Gravity(system, name=\"Gravity\")\n",
    "\n",
    "# Simulate\n",
    "start = time.clock()\n",
    "(t, q) = simulate_system(system)\n",
    "finish = time.clock()\n",
    "\n",
    "# Display\n",
    "print \"Simulation: dt=%f, tf=%f, runtime=%f s\" % (dt, tf, finish-start)\n",
    "visual.visualize_3d([ visual.VisualItem3D(system, t, q) ])\n"
   ]
  },
  {
   "cell_type": "code",
   "execution_count": null,
   "metadata": {},
   "outputs": [],
   "source": []
  }
 ],
 "metadata": {
  "kernelspec": {
   "display_name": "Python 2",
   "language": "python",
   "name": "python2"
  },
  "language_info": {
   "codemirror_mode": {
    "name": "ipython",
    "version": 2
   },
   "file_extension": ".py",
   "mimetype": "text/x-python",
   "name": "python",
   "nbconvert_exporter": "python",
   "pygments_lexer": "ipython2",
   "version": "2.7.12"
  }
 },
 "nbformat": 4,
 "nbformat_minor": 2
}
