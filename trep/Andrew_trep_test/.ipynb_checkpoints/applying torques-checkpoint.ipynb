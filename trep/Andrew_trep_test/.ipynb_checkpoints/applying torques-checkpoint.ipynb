{
 "cells": [
  {
   "cell_type": "code",
   "execution_count": 1,
   "metadata": {},
   "outputs": [
    {
     "name": "stdout",
     "output_type": "stream",
     "text": [
      "Simulation: dt=0.010000, tf=10.000000, runtime=0.130821 s\n"
     ]
    },
    {
     "data": {
      "text/plain": [
       "0"
      ]
     },
     "execution_count": 1,
     "metadata": {},
     "output_type": "execute_result"
    }
   ],
   "source": [
    "import trep\n",
    "from trep import tx,ty,tz,rx,ry,rz\n",
    "import trep.potentials\n",
    "import time\n",
    "import trep.visual as visual\n",
    "import math\n",
    "import numpy as np\n",
    "from math import sin\n",
    "\n",
    "\n",
    "dt = 0.01\n",
    "tf = 10.0\n",
    "\n",
    "def simulate_system(system, u_func):\n",
    "    # Now we'll extract the current configuration into a tuple to use as\n",
    "    # initial conditions for a variational integrator.\n",
    "    q0 = system.q\n",
    "\n",
    "    # Create and initialize the variational integrator\n",
    "    mvi = trep.MidpointVI(system)\n",
    "    mvi.initialize_from_configs(0.0, q0, dt, q0)\n",
    "    system.satisfy_constraints(tolerance=1e-1)\n",
    "\n",
    "    # This is our simulation loop.  We save the results in two lists.\n",
    "    q = [mvi.q2]\n",
    "    t = [mvi.t2]\n",
    "    while mvi.t1 < tf:\n",
    "        mvi.step(mvi.t2+dt, u_func(mvi.t1))\n",
    "        q.append(mvi.q2)\n",
    "        t.append(mvi.t2)\n",
    "    return (t,q)\n",
    "\n",
    "# Set up the system frames\n",
    "system = trep.System()\n",
    "system.import_frames([\n",
    "    # Define the 3 Center Links\n",
    "    rx('theta1'),[\n",
    "        tz(-0.7, name='pend1'),[\n",
    "            rx('theta2'),[\n",
    "                tz(-0.7, name='pend2'),[\n",
    "                    rx('theta3'),[\n",
    "                        tz(-0.4, name='legConnection'),[\n",
    "                            tz(-0.6, mass=1, name='COMLeg'),[\n",
    "                                tz(-1, name='pend3')]]]]]]],\n",
    "    # Define the 2 Right Links    \n",
    "    ty(1), [\n",
    "        rx('theta4'),[\n",
    "            tz(-0.5, mass=1, name='COM4'),[\n",
    "                tz(-0.5),[\n",
    "                    rx('theta5'),[\n",
    "                        tz(-1, name='pend5')]]]]],\n",
    "    # Define the 2 Left Links    \n",
    "    ty(-1), [\n",
    "        rx('theta6'),[\n",
    "            tz(-0.5, mass=1, name='COM6'),[\n",
    "                tz(-0.5, name='pend6'),[\n",
    "                    rx('theta7'),[\n",
    "                        tz(-1, name='pend7')\n",
    "                    ]\n",
    "                ]\n",
    "            ]\n",
    "        ]\n",
    "    ]\n",
    "])\n",
    "\n",
    "# Establish gravity\n",
    "trep.potentials.Gravity(system, name=\"Gravity\")\n",
    "# trep.forces.Damping(system, 0.1)\n",
    "\n",
    "# Input Torque\n",
    "trep.forces.ConfigForce(system, 'theta1', 'theta1-torque-middle')\n",
    "trep.forces.ConfigForce(system, 'theta4', 'theta4-torque-right')\n",
    "trep.forces.ConfigForce(system, 'theta6', 'theta6-torque-left')\n",
    "\n",
    "def forcing1(t):\n",
    "    return (0.0*math.exp(-(t-5)**2), -4*math.exp(-(t-5)**2), 4*math.exp(-(t-5)**2))\n",
    "\n",
    "# Assign values to the system initial configuration\n",
    "pie = math.pi\n",
    "#system.q = (pie/3,-2*pie/3,pie/3,0,-pie/2,0,pie/2)\n",
    "system.q = (-2.4119+math.pi/2, 1.6821, -0.8411, -1.7110+math.pi/2, -0.8957, -1.4306+(math.pi/2), 0.8957)\n",
    "\n",
    "# Add constraints\n",
    "trep.constraints.PointToPoint2D(system,'yz','pend5','legConnection')\n",
    "trep.constraints.PointToPoint2D(system,'yz','pend7','legConnection')\n",
    "\n",
    "# Simulate\n",
    "start = time.clock()\n",
    "(t, q) = simulate_system(system,forcing1)\n",
    "finish = time.clock()\n",
    "\n",
    "# Display\n",
    "print \"Simulation: dt=%f, tf=%f, runtime=%f s\" % (dt, tf, finish-start)\n",
    "visual.visualize_3d([ visual.VisualItem3D(system, t, q) ])"
   ]
  },
  {
   "cell_type": "code",
   "execution_count": null,
   "metadata": {},
   "outputs": [],
   "source": []
  }
 ],
 "metadata": {
  "kernelspec": {
   "display_name": "Python 2",
   "language": "python",
   "name": "python2"
  },
  "language_info": {
   "codemirror_mode": {
    "name": "ipython",
    "version": 2
   },
   "file_extension": ".py",
   "mimetype": "text/x-python",
   "name": "python",
   "nbconvert_exporter": "python",
   "pygments_lexer": "ipython2",
   "version": "2.7.12"
  }
 },
 "nbformat": 4,
 "nbformat_minor": 2
}
