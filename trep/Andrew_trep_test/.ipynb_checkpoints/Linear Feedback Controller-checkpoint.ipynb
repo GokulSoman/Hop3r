{
 "cells": [
  {
   "cell_type": "code",
   "execution_count": 1,
   "metadata": {},
   "outputs": [],
   "source": [
    "### Create pendulum system\n",
    "\n",
    "\n",
    "# Import necessary python modules\n",
    "import math\n",
    "from math import pi\n",
    "import numpy as np\n",
    "from numpy import dot\n",
    "import trep\n",
    "import trep.discopt\n",
    "from trep import tx, ty, tz, rx, ry, rz\n",
    "import pylab\n",
    "\n",
    "# Build a pendulum system\n",
    "m = 1.0 # Mass of pendulum\n",
    "l = 1.0 # Length of pendulum\n",
    "q0 = 3./4.*pi # Initial configuration of pendulum\n",
    "t0 = 0.0 # Initial time\n",
    "tf = 5.0 # Final time\n",
    "dt = 0.1 # Sampling time\n",
    "qBar = pi # Desired configuration\n",
    "Q = np.eye(2) # Cost weights for states\n",
    "R = np.eye(1) # Cost weights for inputs\n",
    "\n",
    "system = trep.System() # Initialize system\n",
    "\n",
    "frames = [\n",
    "    rx('theta', name=\"pendulumShoulder\"), [\n",
    "        tz(-l, name=\"pendulumArm\", mass=m)]]\n",
    "system.import_frames(frames) # Add frames\n",
    "\n",
    "# Add forces to the system\n",
    "trep.potentials.Gravity(system, (0, 0, -9.8)) # Add gravity\n",
    "trep.forces.Damping(system, 1.0) # Add damping\n",
    "trep.forces.ConfigForce(system, 'theta', 'theta-torque') # Add input\n",
    "\n",
    "# Create and initialize the variational integrator\n",
    "mvi = trep.MidpointVI(system)\n",
    "mvi.initialize_from_configs(t0, np.array([q0]), t0+dt, np.array([q0]))"
   ]
  },
  {
   "cell_type": "code",
   "execution_count": 2,
   "metadata": {},
   "outputs": [],
   "source": [
    "### Create discrete system\n",
    "\n",
    "\n",
    "TVec = np.arange(t0, tf+dt, dt) # Initialize discrete time vector\n",
    "dsys = trep.discopt.DSystem(mvi, TVec) # Initialize discrete system\n",
    "xBar = dsys.build_state(qBar) # Create desired state configuration"
   ]
  },
  {
   "cell_type": "code",
   "execution_count": 3,
   "metadata": {},
   "outputs": [],
   "source": [
    "### Design linear feedback controller\n",
    "\n",
    "\n",
    "Qd = np.zeros((len(TVec), dsys.system.nQ)) # Initialize desired configuration trajectory\n",
    "thetaIndex = dsys.system.get_config('theta').index # Find index of theta config variable\n",
    "for i,t in enumerate(TVec):\n",
    "    Qd[i, thetaIndex] = qBar # Set desired configuration trajectory\n",
    "    (Xd, Ud) = dsys.build_trajectory(Qd) # Set desired state and input trajectory\n",
    "\n",
    "Qk = lambda k: Q # Create lambda function for state cost weights\n",
    "Rk = lambda k: R # Create lambda function for input cost weights\n",
    "KVec = dsys.calc_feedback_controller(Xd, Ud, Qk, Rk) # Solve for linear feedback controller gain\n",
    "KStabilize = KVec[0] # Use only use first value to approximate infinite-horizon optimal controller gain\n",
    "\n",
    "# Reset discrete system state\n",
    "dsys.set(np.array([q0, 0.]), np.array([0.]), 0)"
   ]
  },
  {
   "cell_type": "code",
   "execution_count": null,
   "metadata": {},
   "outputs": [],
   "source": [
    "### Simulate the system forward\n",
    "\n",
    "\n",
    "T = [mvi.t1] # List to hold time values\n",
    "Q = [mvi.q1] # List to hold configuration values\n",
    "X = [dsys.xk] # List to hold state values\n",
    "U = [] # List to hold input values\n",
    "while mvi.t1 < tf-dt:\n",
    "    x = dsys.xk # Grab current state\n",
    "    xTilde = x - xBar # Compare to desired state\n",
    "    u = -dot(KStabilize, xTilde) # Calculate input\n",
    "    dsys.step(u) # Step the system forward by one time step\n",
    "    T.append(mvi.t1) # Update lists\n",
    "    Q.append(mvi.q1)\n",
    "    X.append(x)\n",
    "    U.append(u)"
   ]
  }
 ],
 "metadata": {
  "kernelspec": {
   "display_name": "Python 2",
   "language": "python",
   "name": "python2"
  },
  "language_info": {
   "codemirror_mode": {
    "name": "ipython",
    "version": 2
   },
   "file_extension": ".py",
   "mimetype": "text/x-python",
   "name": "python",
   "nbconvert_exporter": "python",
   "pygments_lexer": "ipython2",
   "version": "2.7.12"
  }
 },
 "nbformat": 4,
 "nbformat_minor": 2
}
