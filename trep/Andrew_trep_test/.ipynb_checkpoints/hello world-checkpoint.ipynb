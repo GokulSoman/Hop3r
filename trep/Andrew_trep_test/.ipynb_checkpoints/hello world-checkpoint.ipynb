{
 "cells": [
  {
   "cell_type": "code",
   "execution_count": 1,
   "metadata": {},
   "outputs": [],
   "source": [
    "import trep"
   ]
  },
  {
   "cell_type": "code",
   "execution_count": 2,
   "metadata": {},
   "outputs": [],
   "source": [
    "system = trep.System()"
   ]
  },
  {
   "cell_type": "code",
   "execution_count": 7,
   "metadata": {},
   "outputs": [
    {
     "data": {
      "text/plain": [
       "array([], dtype=float64)"
      ]
     },
     "execution_count": 7,
     "metadata": {},
     "output_type": "execute_result"
    }
   ],
   "source": [
    "system.t\n",
    "system.u\n",
    "system.q"
   ]
  },
  {
   "cell_type": "code",
   "execution_count": 8,
   "metadata": {},
   "outputs": [
    {
     "data": {
      "text/plain": [
       "0"
      ]
     },
     "execution_count": 8,
     "metadata": {},
     "output_type": "execute_result"
    }
   ],
   "source": [
    "trep.visual.visualize_3d([ trep.visual.VisualItem3D(system, [], []) ])"
   ]
  },
  {
   "cell_type": "code",
   "execution_count": 15,
   "metadata": {},
   "outputs": [],
   "source": [
    "# pendulum system\n",
    "\n",
    "import math\n",
    "from math import pi\n",
    "import numpy as np\n",
    "import trep\n",
    "from trep import tx, ty, tz, rx, ry, rz\n",
    "\n",
    "m = 1.0 # Mass of pendulum\n",
    "l = 1.0 # Length of pendulum\n",
    "q0 = 3./4.*pi # Initial configuration of pendulum\n",
    "t0 = 0.0 # Initial time\n",
    "tf = 5.0 # Final time\n",
    "dt = 0.1 # Timestep\n",
    "\n",
    "system = trep.System() # Initialize system\n",
    "\n",
    "frames = [\n",
    "    rx('theta', name=\"pendulumShoulder\"), [\n",
    "        tz(-l, name=\"pendulumArm\", mass=m)]]\n",
    "system.import_frames(frames) # Add frames\n",
    "\n",
    "\n",
    "trep.potentials.Gravity(system, (0, 0, -9.8)) # Add gravity\n",
    "trep.forces.Damping(system, 1.0) # Add damping\n",
    "trep.forces.ConfigForce(system, 'theta', 'theta-torque') # Add input\n",
    "\n",
    "mvi = trep.MidpointVI(system)\n",
    "mvi.initialize_from_configs(t0, np.array([q0]), t0+dt, np.array([q0]))\n",
    "\n",
    "\n",
    "T = [mvi.t1] # List to hold time values\n",
    "Q = [mvi.q1] # List to hold configuration values\n",
    "while mvi.t1 < tf:\n",
    "    mvi.step(mvi.t2+dt, [0.0]) # Step the system forward by one time step\n",
    "    T.append(mvi.t1)\n",
    "    Q.append(mvi.q1)"
   ]
  },
  {
   "cell_type": "code",
   "execution_count": 16,
   "metadata": {},
   "outputs": [
    {
     "data": {
      "text/plain": [
       "0"
      ]
     },
     "execution_count": 16,
     "metadata": {},
     "output_type": "execute_result"
    }
   ],
   "source": [
    "trep.visual.visualize_3d([ trep.visual.VisualItem3D(system, T, Q) ])"
   ]
  },
  {
   "cell_type": "code",
   "execution_count": null,
   "metadata": {},
   "outputs": [],
   "source": [
    "# linear feedback controller for an inverted pendulum\n",
    "\n"
   ]
  }
 ],
 "metadata": {
  "kernelspec": {
   "display_name": "Python 2",
   "language": "python",
   "name": "python2"
  },
  "language_info": {
   "codemirror_mode": {
    "name": "ipython",
    "version": 2
   },
   "file_extension": ".py",
   "mimetype": "text/x-python",
   "name": "python",
   "nbconvert_exporter": "python",
   "pygments_lexer": "ipython2",
   "version": "2.7.12"
  }
 },
 "nbformat": 4,
 "nbformat_minor": 2
}
